{
 "cells": [
  {
   "cell_type": "code",
   "execution_count": 3,
   "id": "19045da6",
   "metadata": {},
   "outputs": [],
   "source": [
    "import pandas as pd\n",
    "import numpy as np\n",
    "import matplotlib.pyplot as plt\n",
    "import seaborn as sns"
   ]
  },
  {
   "cell_type": "code",
   "execution_count": 4,
   "id": "7c5e7808",
   "metadata": {},
   "outputs": [],
   "source": [
    "df=pd.read_csv(\"songdata.csv\")"
   ]
  },
  {
   "cell_type": "code",
   "execution_count": 5,
   "id": "fb236149",
   "metadata": {},
   "outputs": [
    {
     "data": {
      "text/html": [
       "<div>\n",
       "<style scoped>\n",
       "    .dataframe tbody tr th:only-of-type {\n",
       "        vertical-align: middle;\n",
       "    }\n",
       "\n",
       "    .dataframe tbody tr th {\n",
       "        vertical-align: top;\n",
       "    }\n",
       "\n",
       "    .dataframe thead th {\n",
       "        text-align: right;\n",
       "    }\n",
       "</style>\n",
       "<table border=\"1\" class=\"dataframe\">\n",
       "  <thead>\n",
       "    <tr style=\"text-align: right;\">\n",
       "      <th></th>\n",
       "      <th>artist</th>\n",
       "      <th>song</th>\n",
       "      <th>link</th>\n",
       "      <th>text</th>\n",
       "    </tr>\n",
       "  </thead>\n",
       "  <tbody>\n",
       "    <tr>\n",
       "      <th>0</th>\n",
       "      <td>ABBA</td>\n",
       "      <td>Ahe's My Kind Of Girl</td>\n",
       "      <td>/a/abba/ahes+my+kind+of+girl_20598417.html</td>\n",
       "      <td>Look at her face, it's a wonderful face  \\nAnd...</td>\n",
       "    </tr>\n",
       "    <tr>\n",
       "      <th>1</th>\n",
       "      <td>ABBA</td>\n",
       "      <td>Andante, Andante</td>\n",
       "      <td>/a/abba/andante+andante_20002708.html</td>\n",
       "      <td>Take it easy with me, please  \\nTouch me gentl...</td>\n",
       "    </tr>\n",
       "    <tr>\n",
       "      <th>2</th>\n",
       "      <td>ABBA</td>\n",
       "      <td>As Good As New</td>\n",
       "      <td>/a/abba/as+good+as+new_20003033.html</td>\n",
       "      <td>I'll never know why I had to go  \\nWhy I had t...</td>\n",
       "    </tr>\n",
       "    <tr>\n",
       "      <th>3</th>\n",
       "      <td>ABBA</td>\n",
       "      <td>Bang</td>\n",
       "      <td>/a/abba/bang_20598415.html</td>\n",
       "      <td>Making somebody happy is a question of give an...</td>\n",
       "    </tr>\n",
       "    <tr>\n",
       "      <th>4</th>\n",
       "      <td>ABBA</td>\n",
       "      <td>Bang-A-Boomerang</td>\n",
       "      <td>/a/abba/bang+a+boomerang_20002668.html</td>\n",
       "      <td>Making somebody happy is a question of give an...</td>\n",
       "    </tr>\n",
       "  </tbody>\n",
       "</table>\n",
       "</div>"
      ],
      "text/plain": [
       "  artist                   song                                        link  \\\n",
       "0   ABBA  Ahe's My Kind Of Girl  /a/abba/ahes+my+kind+of+girl_20598417.html   \n",
       "1   ABBA       Andante, Andante       /a/abba/andante+andante_20002708.html   \n",
       "2   ABBA         As Good As New        /a/abba/as+good+as+new_20003033.html   \n",
       "3   ABBA                   Bang                  /a/abba/bang_20598415.html   \n",
       "4   ABBA       Bang-A-Boomerang      /a/abba/bang+a+boomerang_20002668.html   \n",
       "\n",
       "                                                text  \n",
       "0  Look at her face, it's a wonderful face  \\nAnd...  \n",
       "1  Take it easy with me, please  \\nTouch me gentl...  \n",
       "2  I'll never know why I had to go  \\nWhy I had t...  \n",
       "3  Making somebody happy is a question of give an...  \n",
       "4  Making somebody happy is a question of give an...  "
      ]
     },
     "execution_count": 5,
     "metadata": {},
     "output_type": "execute_result"
    }
   ],
   "source": [
    "df.head()"
   ]
  },
  {
   "cell_type": "markdown",
   "id": "56135fcd",
   "metadata": {},
   "source": [
    "# Data analysing"
   ]
  },
  {
   "cell_type": "code",
   "execution_count": 6,
   "id": "60860d57",
   "metadata": {},
   "outputs": [
    {
     "name": "stdout",
     "output_type": "stream",
     "text": [
      "<class 'pandas.core.frame.DataFrame'>\n",
      "RangeIndex: 57650 entries, 0 to 57649\n",
      "Data columns (total 4 columns):\n",
      " #   Column  Non-Null Count  Dtype \n",
      "---  ------  --------------  ----- \n",
      " 0   artist  57650 non-null  object\n",
      " 1   song    57650 non-null  object\n",
      " 2   link    57650 non-null  object\n",
      " 3   text    57650 non-null  object\n",
      "dtypes: object(4)\n",
      "memory usage: 1.8+ MB\n"
     ]
    }
   ],
   "source": [
    "df.info()"
   ]
  },
  {
   "cell_type": "code",
   "execution_count": 7,
   "id": "67fbde3b",
   "metadata": {},
   "outputs": [
    {
     "data": {
      "text/plain": [
       "(57650, 4)"
      ]
     },
     "execution_count": 7,
     "metadata": {},
     "output_type": "execute_result"
    }
   ],
   "source": [
    "df.shape"
   ]
  },
  {
   "cell_type": "code",
   "execution_count": 8,
   "id": "5513bce4",
   "metadata": {},
   "outputs": [
    {
     "data": {
      "text/plain": [
       "artist\n",
       "Donna Summer        191\n",
       "Gordon Lightfoot    189\n",
       "Bob Dylan           188\n",
       "George Strait       188\n",
       "Loretta Lynn        187\n",
       "                   ... \n",
       "Zazie                 2\n",
       "Zed                   1\n",
       "Zoe                   1\n",
       "X-Treme               1\n",
       "U-Kiss                1\n",
       "Name: count, Length: 643, dtype: int64"
      ]
     },
     "execution_count": 8,
     "metadata": {},
     "output_type": "execute_result"
    }
   ],
   "source": [
    "df['artist'].value_counts()"
   ]
  },
  {
   "cell_type": "code",
   "execution_count": 9,
   "id": "a17bd3cb",
   "metadata": {},
   "outputs": [
    {
     "data": {
      "text/plain": [
       "artist    0\n",
       "song      0\n",
       "link      0\n",
       "text      0\n",
       "dtype: int64"
      ]
     },
     "execution_count": 9,
     "metadata": {},
     "output_type": "execute_result"
    }
   ],
   "source": [
    "df.isnull().sum()"
   ]
  },
  {
   "cell_type": "code",
   "execution_count": 10,
   "id": "b0ea8475",
   "metadata": {},
   "outputs": [
    {
     "data": {
      "text/plain": [
       "0"
      ]
     },
     "execution_count": 10,
     "metadata": {},
     "output_type": "execute_result"
    }
   ],
   "source": [
    "df.duplicated().sum()"
   ]
  },
  {
   "cell_type": "markdown",
   "id": "ef50222c",
   "metadata": {},
   "source": [
    "# Data processing"
   ]
  },
  {
   "cell_type": "code",
   "execution_count": 11,
   "id": "fd52673d",
   "metadata": {},
   "outputs": [],
   "source": [
    "df= df.sample(n=5000).drop('link', axis=1).reset_index(drop=True)"
   ]
  },
  {
   "cell_type": "code",
   "execution_count": 12,
   "id": "8c5d78ba",
   "metadata": {},
   "outputs": [
    {
     "data": {
      "text/html": [
       "<div>\n",
       "<style scoped>\n",
       "    .dataframe tbody tr th:only-of-type {\n",
       "        vertical-align: middle;\n",
       "    }\n",
       "\n",
       "    .dataframe tbody tr th {\n",
       "        vertical-align: top;\n",
       "    }\n",
       "\n",
       "    .dataframe thead th {\n",
       "        text-align: right;\n",
       "    }\n",
       "</style>\n",
       "<table border=\"1\" class=\"dataframe\">\n",
       "  <thead>\n",
       "    <tr style=\"text-align: right;\">\n",
       "      <th></th>\n",
       "      <th>artist</th>\n",
       "      <th>song</th>\n",
       "      <th>text</th>\n",
       "    </tr>\n",
       "  </thead>\n",
       "  <tbody>\n",
       "    <tr>\n",
       "      <th>0</th>\n",
       "      <td>George Strait</td>\n",
       "      <td>Lonesome Rodeo Cowboy</td>\n",
       "      <td>I own this horse and saddle  \\nAnd that old Ca...</td>\n",
       "    </tr>\n",
       "    <tr>\n",
       "      <th>1</th>\n",
       "      <td>Counting Crows</td>\n",
       "      <td>Suffocate</td>\n",
       "      <td>Good morning baby, guess you wanna touch me no...</td>\n",
       "    </tr>\n",
       "    <tr>\n",
       "      <th>2</th>\n",
       "      <td>America</td>\n",
       "      <td>Foolin'</td>\n",
       "      <td>You let me follow you around  \\nIt helped your...</td>\n",
       "    </tr>\n",
       "    <tr>\n",
       "      <th>3</th>\n",
       "      <td>Doris Day</td>\n",
       "      <td>Let It Snow! Let It Snow! Let It Snow!</td>\n",
       "      <td>Oh, the weather outside is frightful  \\nBut th...</td>\n",
       "    </tr>\n",
       "    <tr>\n",
       "      <th>4</th>\n",
       "      <td>Morrissey</td>\n",
       "      <td>To Me You Are A Work Of Art</td>\n",
       "      <td>I live a life  \\nI feel the pain  \\nTo sing th...</td>\n",
       "    </tr>\n",
       "    <tr>\n",
       "      <th>...</th>\n",
       "      <td>...</td>\n",
       "      <td>...</td>\n",
       "      <td>...</td>\n",
       "    </tr>\n",
       "    <tr>\n",
       "      <th>4995</th>\n",
       "      <td>Lloyd Cole</td>\n",
       "      <td>Too Much Of A Good Thing</td>\n",
       "      <td>If it's good for me  \\nAnd it's good for you  ...</td>\n",
       "    </tr>\n",
       "    <tr>\n",
       "      <th>4996</th>\n",
       "      <td>Cher</td>\n",
       "      <td>Cheryl's Going Home</td>\n",
       "      <td>Cheryl'S going home  \\nWriter Bob Lind  \\n  \\n...</td>\n",
       "    </tr>\n",
       "    <tr>\n",
       "      <th>4997</th>\n",
       "      <td>Lionel Richie</td>\n",
       "      <td>Lucy</td>\n",
       "      <td>Hey Lucy why don't you come and settle down  \\...</td>\n",
       "    </tr>\n",
       "    <tr>\n",
       "      <th>4998</th>\n",
       "      <td>Miley Cyrus</td>\n",
       "      <td>As I Am</td>\n",
       "      <td>Gonna stay in bed today  \\n'cause I can't stan...</td>\n",
       "    </tr>\n",
       "    <tr>\n",
       "      <th>4999</th>\n",
       "      <td>Metallica</td>\n",
       "      <td>It's Electric</td>\n",
       "      <td>(Originally recorded by Diamond Head)  \\n  \\nI...</td>\n",
       "    </tr>\n",
       "  </tbody>\n",
       "</table>\n",
       "<p>5000 rows × 3 columns</p>\n",
       "</div>"
      ],
      "text/plain": [
       "              artist                                    song  \\\n",
       "0      George Strait                   Lonesome Rodeo Cowboy   \n",
       "1     Counting Crows                               Suffocate   \n",
       "2            America                                 Foolin'   \n",
       "3          Doris Day  Let It Snow! Let It Snow! Let It Snow!   \n",
       "4          Morrissey             To Me You Are A Work Of Art   \n",
       "...              ...                                     ...   \n",
       "4995      Lloyd Cole                Too Much Of A Good Thing   \n",
       "4996            Cher                     Cheryl's Going Home   \n",
       "4997   Lionel Richie                                    Lucy   \n",
       "4998     Miley Cyrus                                 As I Am   \n",
       "4999       Metallica                           It's Electric   \n",
       "\n",
       "                                                   text  \n",
       "0     I own this horse and saddle  \\nAnd that old Ca...  \n",
       "1     Good morning baby, guess you wanna touch me no...  \n",
       "2     You let me follow you around  \\nIt helped your...  \n",
       "3     Oh, the weather outside is frightful  \\nBut th...  \n",
       "4     I live a life  \\nI feel the pain  \\nTo sing th...  \n",
       "...                                                 ...  \n",
       "4995  If it's good for me  \\nAnd it's good for you  ...  \n",
       "4996  Cheryl'S going home  \\nWriter Bob Lind  \\n  \\n...  \n",
       "4997  Hey Lucy why don't you come and settle down  \\...  \n",
       "4998  Gonna stay in bed today  \\n'cause I can't stan...  \n",
       "4999  (Originally recorded by Diamond Head)  \\n  \\nI...  \n",
       "\n",
       "[5000 rows x 3 columns]"
      ]
     },
     "execution_count": 12,
     "metadata": {},
     "output_type": "execute_result"
    }
   ],
   "source": [
    "df"
   ]
  },
  {
   "cell_type": "markdown",
   "id": "0b805b85",
   "metadata": {},
   "source": [
    "# cleaning "
   ]
  },
  {
   "cell_type": "code",
   "execution_count": 13,
   "id": "a0dd62ff",
   "metadata": {},
   "outputs": [
    {
     "data": {
      "text/plain": [
       "\"I own this horse and saddle  \\nAnd that old Cadillac  \\nThis broken down horse trailer  \\nAnd the clothes that are on my back  \\nWell I know that it ain't a hell of a lot  \\nBut it's all that I can show  \\n  \\nMy wife left me five years ago  \\nIn one of those rodeo towns  \\nI can't say that I blame her much  \\nShe just wanted to settle down  \\nOh god how I miss that woman  \\nIt hurt so to see her go  \\nIf I was smart I woulda stuck by her  \\nBut I'm hooked on this rodeo  \\n  \\n[Chorus]  \\nAnd I'm just a lonesome cowboy  \\nI'm a little bit over the hill  \\nI shoulda quit this thing a long time ago  \\nBut I guess I never will  \\nSo I keep on movin' from show to show  \\nHopin' to change my luck  \\nMy good ol' days are just a memory  \\nBut I just can't give it up  \\n  \\nThere was a time I used to do alright  \\nAnd bring home my share of the dough  \\nBut now I'm losin' out to the younger boys  \\nI guess I must be gettin' slow  \\nBut there's one thing you learn from this  \\nYou gotta make it on your own  \\nCause when your on top you've got a million friends  \\nBut when your down buddy you're all alone  \\n  \\n[Chorus]  \\n  \\nMy good ol days are just a memory  \\nBut I just can't give it up\\n\\n\""
      ]
     },
     "execution_count": 13,
     "metadata": {},
     "output_type": "execute_result"
    }
   ],
   "source": [
    "df['text'][0]"
   ]
  },
  {
   "cell_type": "code",
   "execution_count": 14,
   "id": "cb67c205",
   "metadata": {},
   "outputs": [
    {
     "data": {
      "text/plain": [
       "0       i own this horse and saddle  \\nand that old ca...\n",
       "1       good morning baby, guess you wanna touch me no...\n",
       "2       you let me follow you around  \\nit helped your...\n",
       "3       oh, the weather outside is frightful  \\nbut th...\n",
       "4       i live a life  \\ni feel the pain  \\nto sing th...\n",
       "                              ...                        \n",
       "4995    if it's good for me  \\nand it's good for you  ...\n",
       "4996    cheryl's going home  \\nwriter bob lind  \\n  \\n...\n",
       "4997    hey lucy why don't you come and settle down  \\...\n",
       "4998    gonna stay in bed today  \\n'cause i can't stan...\n",
       "4999    (originally recorded by diamond head)  \\n  \\ni...\n",
       "Name: text, Length: 5000, dtype: object"
      ]
     },
     "execution_count": 14,
     "metadata": {},
     "output_type": "execute_result"
    }
   ],
   "source": [
    "df['text'].str.lower().replace(r'[\\w\\s]','')"
   ]
  },
  {
   "cell_type": "code",
   "execution_count": 15,
   "id": "600f9482",
   "metadata": {},
   "outputs": [],
   "source": [
    "df['text'] =df['text']=df['text'].replace('\\\\n','',regex=True)"
   ]
  },
  {
   "cell_type": "code",
   "execution_count": 16,
   "id": "ef040798",
   "metadata": {},
   "outputs": [
    {
     "data": {
      "text/plain": [
       "\"I own this horse and saddle  And that old Cadillac  This broken down horse trailer  And the clothes that are on my back  Well I know that it ain't a hell of a lot  But it's all that I can show    My wife left me five years ago  In one of those rodeo towns  I can't say that I blame her much  She just wanted to settle down  Oh god how I miss that woman  It hurt so to see her go  If I was smart I woulda stuck by her  But I'm hooked on this rodeo    [Chorus]  And I'm just a lonesome cowboy  I'm a little bit over the hill  I shoulda quit this thing a long time ago  But I guess I never will  So I keep on movin' from show to show  Hopin' to change my luck  My good ol' days are just a memory  But I just can't give it up    There was a time I used to do alright  And bring home my share of the dough  But now I'm losin' out to the younger boys  I guess I must be gettin' slow  But there's one thing you learn from this  You gotta make it on your own  Cause when your on top you've got a million friends  But when your down buddy you're all alone    [Chorus]    My good ol days are just a memory  But I just can't give it up\""
      ]
     },
     "execution_count": 16,
     "metadata": {},
     "output_type": "execute_result"
    }
   ],
   "source": [
    "df['text'][0]"
   ]
  },
  {
   "cell_type": "code",
   "execution_count": 17,
   "id": "6cae4054",
   "metadata": {},
   "outputs": [],
   "source": [
    "import nltk\n",
    "from nltk.stem.porter import PorterStemmer \n",
    "ps=PorterStemmer()"
   ]
  },
  {
   "cell_type": "code",
   "execution_count": 18,
   "id": "73c245a9",
   "metadata": {},
   "outputs": [],
   "source": [
    "def stem(text):\n",
    "    y = [ps.stem(word) for word in text.split()]\n",
    "    return \" \".join(y)"
   ]
  },
  {
   "cell_type": "code",
   "execution_count": 19,
   "id": "a1e3c6a4",
   "metadata": {},
   "outputs": [],
   "source": [
    "df['text']= df['text'].apply(stem)"
   ]
  },
  {
   "cell_type": "code",
   "execution_count": 20,
   "id": "0e260878",
   "metadata": {},
   "outputs": [
    {
     "data": {
      "text/plain": [
       "\"i own thi hors and saddl and that old cadillac thi broken down hors trailer and the cloth that are on my back well i know that it ain't a hell of a lot but it' all that i can show my wife left me five year ago in one of those rodeo town i can't say that i blame her much she just want to settl down oh god how i miss that woman it hurt so to see her go if i wa smart i woulda stuck by her but i'm hook on thi rodeo [chorus] and i'm just a lonesom cowboy i'm a littl bit over the hill i shoulda quit thi thing a long time ago but i guess i never will so i keep on movin' from show to show hopin' to chang my luck my good ol' day are just a memori but i just can't give it up there wa a time i use to do alright and bring home my share of the dough but now i'm losin' out to the younger boy i guess i must be gettin' slow but there' one thing you learn from thi you gotta make it on your own caus when your on top you'v got a million friend but when your down buddi you'r all alon [chorus] my good ol day are just a memori but i just can't give it up\""
      ]
     },
     "execution_count": 20,
     "metadata": {},
     "output_type": "execute_result"
    }
   ],
   "source": [
    "df['text'][0]"
   ]
  },
  {
   "cell_type": "markdown",
   "id": "1bba1636",
   "metadata": {},
   "source": [
    "# Vactorisation"
   ]
  },
  {
   "cell_type": "code",
   "execution_count": 21,
   "id": "7e2b24c0",
   "metadata": {},
   "outputs": [],
   "source": [
    "from sklearn.feature_extraction.text import TfidfVectorizer\n",
    "tfidf = TfidfVectorizer(stop_words='english',max_features=5000)\n",
    "vector = tfidf.fit_transform(df['text'])"
   ]
  },
  {
   "cell_type": "code",
   "execution_count": 22,
   "id": "a0c8a372",
   "metadata": {},
   "outputs": [
    {
     "data": {
      "text/plain": [
       "<1x5000 sparse matrix of type '<class 'numpy.float64'>'\n",
       "\twith 72 stored elements in Compressed Sparse Row format>"
      ]
     },
     "execution_count": 22,
     "metadata": {},
     "output_type": "execute_result"
    }
   ],
   "source": [
    "vector[0]"
   ]
  },
  {
   "cell_type": "code",
   "execution_count": 23,
   "id": "5b21269c",
   "metadata": {},
   "outputs": [
    {
     "data": {
      "text/plain": [
       "(5000, 5000)"
      ]
     },
     "execution_count": 23,
     "metadata": {},
     "output_type": "execute_result"
    }
   ],
   "source": [
    "vector.shape"
   ]
  },
  {
   "cell_type": "code",
   "execution_count": 24,
   "id": "5e7dabfd",
   "metadata": {},
   "outputs": [
    {
     "data": {
      "text/plain": [
       "array(['000', '10', '100', ..., 'zone', 'zoo', 'zoom'], dtype=object)"
      ]
     },
     "execution_count": 24,
     "metadata": {},
     "output_type": "execute_result"
    }
   ],
   "source": [
    "tfidf.get_feature_names_out() #this is used to get that 5000 words from vector"
   ]
  },
  {
   "cell_type": "code",
   "execution_count": 25,
   "id": "e0c95fbe",
   "metadata": {},
   "outputs": [
    {
     "data": {
      "text/plain": [
       "(5000, 5000)"
      ]
     },
     "execution_count": 25,
     "metadata": {},
     "output_type": "execute_result"
    }
   ],
   "source": [
    "from sklearn.metrics.pairwise import cosine_similarity\n",
    "similarity = cosine_similarity(vector)\n",
    "similarity.shape"
   ]
  },
  {
   "cell_type": "code",
   "execution_count": 26,
   "id": "38a3d641",
   "metadata": {},
   "outputs": [
    {
     "data": {
      "text/plain": [
       "array([1.        , 0.10955732, 0.06530518, ..., 0.08425406, 0.08730909,\n",
       "       0.04707028])"
      ]
     },
     "execution_count": 26,
     "metadata": {},
     "output_type": "execute_result"
    }
   ],
   "source": [
    "similarity[0]"
   ]
  },
  {
   "cell_type": "code",
   "execution_count": 27,
   "id": "67d75946",
   "metadata": {},
   "outputs": [
    {
     "data": {
      "text/plain": [
       "[(3328, 0.34472631157918054),\n",
       " (1576, 0.2832835035222828),\n",
       " (3224, 0.26882814979338004),\n",
       " (3512, 0.21214907198541927),\n",
       " (1137, 0.21213490803487875)]"
      ]
     },
     "execution_count": 27,
     "metadata": {},
     "output_type": "execute_result"
    }
   ],
   "source": [
    " sorted(list(enumerate(similarity[0])),reverse=True,key = lambda x: x[1])[1:6]"
   ]
  },
  {
   "cell_type": "code",
   "execution_count": 28,
   "id": "82c3b4c0",
   "metadata": {},
   "outputs": [
    {
     "data": {
      "text/plain": [
       "'Lonesome Rodeo Cowboy'"
      ]
     },
     "execution_count": 28,
     "metadata": {},
     "output_type": "execute_result"
    }
   ],
   "source": [
    "df['song'][0]"
   ]
  },
  {
   "cell_type": "code",
   "execution_count": 32,
   "id": "87bfa923",
   "metadata": {},
   "outputs": [
    {
     "data": {
      "text/plain": [
       "0"
      ]
     },
     "execution_count": 32,
     "metadata": {},
     "output_type": "execute_result"
    }
   ],
   "source": [
    "df[df['song']=='Lonesome Rodeo Cowboy'].index[0]"
   ]
  },
  {
   "cell_type": "code",
   "execution_count": 42,
   "id": "920a7ee7",
   "metadata": {},
   "outputs": [],
   "source": [
    "def recommendation(song_df):\n",
    "    idx = df[df['song'] == song_df].index[0]\n",
    "    distances = sorted(list(enumerate(similarity[idx])),reverse=True,key=lambda x:x[1])\n",
    "    \n",
    "    songs = []\n",
    "    for m_id in distances[1:21]:\n",
    "        songs.append(df.iloc[m_id[0]].song)\n",
    "        \n",
    "    return songs"
   ]
  },
  {
   "cell_type": "code",
   "execution_count": 43,
   "id": "6ec4ccb2",
   "metadata": {
    "scrolled": true
   },
   "outputs": [
    {
     "data": {
      "text/plain": [
       "['Angel From Montgomery',\n",
       " \"Ridin' The Rodeo\",\n",
       " \"I Aint' Her Cowboy Anymore\",\n",
       " \"I Just Can't Go On Dying Like This\",\n",
       " 'Am I Losing Your Memory Or Mine?',\n",
       " 'Something',\n",
       " \"Am I Losin'?\",\n",
       " 'This Is The One',\n",
       " 'Rhinestone Cowboy',\n",
       " 'On This Day',\n",
       " 'Just Like A Woman',\n",
       " \"Just Can't Get Enough\",\n",
       " \"You Can't Put Your Arms Around A Memory\",\n",
       " \"I Can't Keep My Hands Off Of You\",\n",
       " 'My December',\n",
       " 'Better Day',\n",
       " 'Stay',\n",
       " \"Can't Blame You\",\n",
       " 'For You',\n",
       " 'That Girl Is A Cowboy']"
      ]
     },
     "execution_count": 43,
     "metadata": {},
     "output_type": "execute_result"
    }
   ],
   "source": [
    "recommendation('Lonesome Rodeo Cowboy')"
   ]
  },
  {
   "cell_type": "code",
   "execution_count": 95,
   "id": "4be594b4",
   "metadata": {},
   "outputs": [],
   "source": [
    "import pickle\n",
    "pickle.dump(similarity,open('similarity.pkl','wb'))\n",
    "pickle.dump(df,open('songslist.pkl','wb'))"
   ]
  },
  {
   "cell_type": "code",
   "execution_count": null,
   "id": "1eb3ccd2",
   "metadata": {},
   "outputs": [],
   "source": []
  }
 ],
 "metadata": {
  "kernelspec": {
   "display_name": "Python 3 (ipykernel)",
   "language": "python",
   "name": "python3"
  },
  "language_info": {
   "codemirror_mode": {
    "name": "ipython",
    "version": 3
   },
   "file_extension": ".py",
   "mimetype": "text/x-python",
   "name": "python",
   "nbconvert_exporter": "python",
   "pygments_lexer": "ipython3",
   "version": "3.11.5"
  }
 },
 "nbformat": 4,
 "nbformat_minor": 5
}
