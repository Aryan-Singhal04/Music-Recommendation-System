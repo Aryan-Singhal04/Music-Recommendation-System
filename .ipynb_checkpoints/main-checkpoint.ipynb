{
 "cells": [
  {
   "cell_type": "code",
   "execution_count": 26,
   "id": "19045da6",
   "metadata": {},
   "outputs": [],
   "source": [
    "import pandas as pd\n",
    "import numpy as np\n",
    "import matplotlib.pyplot as plt\n",
    "import seaborn as sns"
   ]
  },
  {
   "cell_type": "code",
   "execution_count": 27,
   "id": "fe1e1256",
   "metadata": {},
   "outputs": [],
   "source": [
    "df=pd.read_csv(\"songdata.csv\")"
   ]
  },
  {
   "cell_type": "code",
   "execution_count": 28,
   "id": "7a6a29fb",
   "metadata": {},
   "outputs": [
    {
     "data": {
      "text/html": [
       "<div>\n",
       "<style scoped>\n",
       "    .dataframe tbody tr th:only-of-type {\n",
       "        vertical-align: middle;\n",
       "    }\n",
       "\n",
       "    .dataframe tbody tr th {\n",
       "        vertical-align: top;\n",
       "    }\n",
       "\n",
       "    .dataframe thead th {\n",
       "        text-align: right;\n",
       "    }\n",
       "</style>\n",
       "<table border=\"1\" class=\"dataframe\">\n",
       "  <thead>\n",
       "    <tr style=\"text-align: right;\">\n",
       "      <th></th>\n",
       "      <th>artist</th>\n",
       "      <th>song</th>\n",
       "      <th>link</th>\n",
       "      <th>text</th>\n",
       "    </tr>\n",
       "  </thead>\n",
       "  <tbody>\n",
       "    <tr>\n",
       "      <th>0</th>\n",
       "      <td>ABBA</td>\n",
       "      <td>Ahe's My Kind Of Girl</td>\n",
       "      <td>/a/abba/ahes+my+kind+of+girl_20598417.html</td>\n",
       "      <td>Look at her face, it's a wonderful face  \\nAnd...</td>\n",
       "    </tr>\n",
       "    <tr>\n",
       "      <th>1</th>\n",
       "      <td>ABBA</td>\n",
       "      <td>Andante, Andante</td>\n",
       "      <td>/a/abba/andante+andante_20002708.html</td>\n",
       "      <td>Take it easy with me, please  \\nTouch me gentl...</td>\n",
       "    </tr>\n",
       "    <tr>\n",
       "      <th>2</th>\n",
       "      <td>ABBA</td>\n",
       "      <td>As Good As New</td>\n",
       "      <td>/a/abba/as+good+as+new_20003033.html</td>\n",
       "      <td>I'll never know why I had to go  \\nWhy I had t...</td>\n",
       "    </tr>\n",
       "    <tr>\n",
       "      <th>3</th>\n",
       "      <td>ABBA</td>\n",
       "      <td>Bang</td>\n",
       "      <td>/a/abba/bang_20598415.html</td>\n",
       "      <td>Making somebody happy is a question of give an...</td>\n",
       "    </tr>\n",
       "    <tr>\n",
       "      <th>4</th>\n",
       "      <td>ABBA</td>\n",
       "      <td>Bang-A-Boomerang</td>\n",
       "      <td>/a/abba/bang+a+boomerang_20002668.html</td>\n",
       "      <td>Making somebody happy is a question of give an...</td>\n",
       "    </tr>\n",
       "  </tbody>\n",
       "</table>\n",
       "</div>"
      ],
      "text/plain": [
       "  artist                   song                                        link  \\\n",
       "0   ABBA  Ahe's My Kind Of Girl  /a/abba/ahes+my+kind+of+girl_20598417.html   \n",
       "1   ABBA       Andante, Andante       /a/abba/andante+andante_20002708.html   \n",
       "2   ABBA         As Good As New        /a/abba/as+good+as+new_20003033.html   \n",
       "3   ABBA                   Bang                  /a/abba/bang_20598415.html   \n",
       "4   ABBA       Bang-A-Boomerang      /a/abba/bang+a+boomerang_20002668.html   \n",
       "\n",
       "                                                text  \n",
       "0  Look at her face, it's a wonderful face  \\nAnd...  \n",
       "1  Take it easy with me, please  \\nTouch me gentl...  \n",
       "2  I'll never know why I had to go  \\nWhy I had t...  \n",
       "3  Making somebody happy is a question of give an...  \n",
       "4  Making somebody happy is a question of give an...  "
      ]
     },
     "execution_count": 28,
     "metadata": {},
     "output_type": "execute_result"
    }
   ],
   "source": [
    "df.head()"
   ]
  },
  {
   "cell_type": "markdown",
   "id": "0b9ae980",
   "metadata": {},
   "source": [
    "# Data analysing"
   ]
  },
  {
   "cell_type": "code",
   "execution_count": 29,
   "id": "7f7fc69d",
   "metadata": {},
   "outputs": [
    {
     "name": "stdout",
     "output_type": "stream",
     "text": [
      "<class 'pandas.core.frame.DataFrame'>\n",
      "RangeIndex: 57650 entries, 0 to 57649\n",
      "Data columns (total 4 columns):\n",
      " #   Column  Non-Null Count  Dtype \n",
      "---  ------  --------------  ----- \n",
      " 0   artist  57650 non-null  object\n",
      " 1   song    57650 non-null  object\n",
      " 2   link    57650 non-null  object\n",
      " 3   text    57650 non-null  object\n",
      "dtypes: object(4)\n",
      "memory usage: 1.8+ MB\n"
     ]
    }
   ],
   "source": [
    "df.info()"
   ]
  },
  {
   "cell_type": "code",
   "execution_count": 30,
   "id": "969bb20f",
   "metadata": {},
   "outputs": [
    {
     "data": {
      "text/plain": [
       "(57650, 4)"
      ]
     },
     "execution_count": 30,
     "metadata": {},
     "output_type": "execute_result"
    }
   ],
   "source": [
    "df.shape"
   ]
  },
  {
   "cell_type": "code",
   "execution_count": 31,
   "id": "b5782971",
   "metadata": {},
   "outputs": [
    {
     "data": {
      "text/plain": [
       "artist\n",
       "Donna Summer        191\n",
       "Gordon Lightfoot    189\n",
       "Bob Dylan           188\n",
       "George Strait       188\n",
       "Loretta Lynn        187\n",
       "                   ... \n",
       "Zazie                 2\n",
       "Zed                   1\n",
       "Zoe                   1\n",
       "X-Treme               1\n",
       "U-Kiss                1\n",
       "Name: count, Length: 643, dtype: int64"
      ]
     },
     "execution_count": 31,
     "metadata": {},
     "output_type": "execute_result"
    }
   ],
   "source": [
    "df['artist'].value_counts()"
   ]
  },
  {
   "cell_type": "code",
   "execution_count": 32,
   "id": "03bb485e",
   "metadata": {},
   "outputs": [
    {
     "data": {
      "text/plain": [
       "artist    0\n",
       "song      0\n",
       "link      0\n",
       "text      0\n",
       "dtype: int64"
      ]
     },
     "execution_count": 32,
     "metadata": {},
     "output_type": "execute_result"
    }
   ],
   "source": [
    "df.isnull().sum()"
   ]
  },
  {
   "cell_type": "code",
   "execution_count": 33,
   "id": "165a7990",
   "metadata": {},
   "outputs": [
    {
     "data": {
      "text/plain": [
       "0"
      ]
     },
     "execution_count": 33,
     "metadata": {},
     "output_type": "execute_result"
    }
   ],
   "source": [
    "df.duplicated().sum()"
   ]
  },
  {
   "cell_type": "markdown",
   "id": "c1a02fba",
   "metadata": {},
   "source": [
    "# Data processing"
   ]
  },
  {
   "cell_type": "code",
   "execution_count": 36,
   "id": "1554b9fa",
   "metadata": {},
   "outputs": [],
   "source": [
    "df= df.sample(n=5000).drop('link', axis=1).reset_index(drop=True)"
   ]
  },
  {
   "cell_type": "code",
   "execution_count": 92,
   "id": "24646b82",
   "metadata": {},
   "outputs": [
    {
     "data": {
      "text/html": [
       "<div>\n",
       "<style scoped>\n",
       "    .dataframe tbody tr th:only-of-type {\n",
       "        vertical-align: middle;\n",
       "    }\n",
       "\n",
       "    .dataframe tbody tr th {\n",
       "        vertical-align: top;\n",
       "    }\n",
       "\n",
       "    .dataframe thead th {\n",
       "        text-align: right;\n",
       "    }\n",
       "</style>\n",
       "<table border=\"1\" class=\"dataframe\">\n",
       "  <thead>\n",
       "    <tr style=\"text-align: right;\">\n",
       "      <th></th>\n",
       "      <th>artist</th>\n",
       "      <th>song</th>\n",
       "      <th>text</th>\n",
       "    </tr>\n",
       "  </thead>\n",
       "  <tbody>\n",
       "    <tr>\n",
       "      <th>0</th>\n",
       "      <td>Jason Mraz</td>\n",
       "      <td>Long Drive</td>\n",
       "      <td>long drive, long night the best night of my li...</td>\n",
       "    </tr>\n",
       "    <tr>\n",
       "      <th>1</th>\n",
       "      <td>Vybz Kartel</td>\n",
       "      <td>Realest Thing</td>\n",
       "      <td>ah preston wha di mattar skin girl like ack an...</td>\n",
       "    </tr>\n",
       "    <tr>\n",
       "      <th>2</th>\n",
       "      <td>Glen Campbell</td>\n",
       "      <td>Freeborn Man</td>\n",
       "      <td>i wa born in southland twenti some odd year ag...</td>\n",
       "    </tr>\n",
       "    <tr>\n",
       "      <th>3</th>\n",
       "      <td>Utopia</td>\n",
       "      <td>Forgotten But Not Gone</td>\n",
       "      <td>she' been good to me she' been as kind as a gi...</td>\n",
       "    </tr>\n",
       "    <tr>\n",
       "      <th>4</th>\n",
       "      <td>Billy Joel</td>\n",
       "      <td>She's Got A Way</td>\n",
       "      <td>she' got a way about her i don't know what it ...</td>\n",
       "    </tr>\n",
       "    <tr>\n",
       "      <th>...</th>\n",
       "      <td>...</td>\n",
       "      <td>...</td>\n",
       "      <td>...</td>\n",
       "    </tr>\n",
       "    <tr>\n",
       "      <th>4995</th>\n",
       "      <td>Diana Ross</td>\n",
       "      <td>Had You Been Around</td>\n",
       "      <td>i might have known a lot of thing been smile u...</td>\n",
       "    </tr>\n",
       "    <tr>\n",
       "      <th>4996</th>\n",
       "      <td>Ugly Kid Joe</td>\n",
       "      <td>Clover</td>\n",
       "      <td>vers 1 i'm, protect by the leav of the four le...</td>\n",
       "    </tr>\n",
       "    <tr>\n",
       "      <th>4997</th>\n",
       "      <td>Oasis</td>\n",
       "      <td>Love Like A Bomb</td>\n",
       "      <td>i see you, a woman, a world in my mind. girl i...</td>\n",
       "    </tr>\n",
       "    <tr>\n",
       "      <th>4998</th>\n",
       "      <td>Alan Parsons Project</td>\n",
       "      <td>Fall Free</td>\n",
       "      <td>(bairnson, elliott, parsons) what' the use of ...</td>\n",
       "    </tr>\n",
       "    <tr>\n",
       "      <th>4999</th>\n",
       "      <td>Loretta Lynn</td>\n",
       "      <td>Away In A Manger</td>\n",
       "      <td>(traditional) away in a manger no crib for a b...</td>\n",
       "    </tr>\n",
       "  </tbody>\n",
       "</table>\n",
       "<p>5000 rows × 3 columns</p>\n",
       "</div>"
      ],
      "text/plain": [
       "                    artist                    song  \\\n",
       "0               Jason Mraz              Long Drive   \n",
       "1              Vybz Kartel           Realest Thing   \n",
       "2            Glen Campbell            Freeborn Man   \n",
       "3                   Utopia  Forgotten But Not Gone   \n",
       "4               Billy Joel         She's Got A Way   \n",
       "...                    ...                     ...   \n",
       "4995            Diana Ross     Had You Been Around   \n",
       "4996          Ugly Kid Joe                  Clover   \n",
       "4997                 Oasis        Love Like A Bomb   \n",
       "4998  Alan Parsons Project               Fall Free   \n",
       "4999          Loretta Lynn        Away In A Manger   \n",
       "\n",
       "                                                   text  \n",
       "0     long drive, long night the best night of my li...  \n",
       "1     ah preston wha di mattar skin girl like ack an...  \n",
       "2     i wa born in southland twenti some odd year ag...  \n",
       "3     she' been good to me she' been as kind as a gi...  \n",
       "4     she' got a way about her i don't know what it ...  \n",
       "...                                                 ...  \n",
       "4995  i might have known a lot of thing been smile u...  \n",
       "4996  vers 1 i'm, protect by the leav of the four le...  \n",
       "4997  i see you, a woman, a world in my mind. girl i...  \n",
       "4998  (bairnson, elliott, parsons) what' the use of ...  \n",
       "4999  (traditional) away in a manger no crib for a b...  \n",
       "\n",
       "[5000 rows x 3 columns]"
      ]
     },
     "execution_count": 92,
     "metadata": {},
     "output_type": "execute_result"
    }
   ],
   "source": [
    "df"
   ]
  },
  {
   "cell_type": "markdown",
   "id": "3207726e",
   "metadata": {},
   "source": [
    "# cleaning "
   ]
  },
  {
   "cell_type": "code",
   "execution_count": 38,
   "id": "71f402ee",
   "metadata": {},
   "outputs": [
    {
     "data": {
      "text/plain": [
       "\"Long drive, long night  \\nThe best night of my life  \\nWith you ridin'  \\nYour hand on my hand  \\n  \\nThe thought of arriving  \\nKinda feels like dying  \\nI don't want to go home  \\nAnd be alone  \\n  \\nCould we stay out  \\nCould you drive a little slower  \\nDon't matter where we're going  \\nAs long as I'm with you  \\nWe can take the long way  \\n  \\nChevy Nova  \\nFront seat sofa  \\nGetting closer  \\nTo you  \\n  \\nDrive a little slower  \\nDon't matter where we're going  \\nAs long as I'm with you  \\nWe can take the long way  \\n  \\nDrive a little slower  \\nNot ready to go home  \\nI rather stay with you  \\nWe can take the long way out  \\n  \\nTo the country, out of town  \\nLet's get lost, I don't want to be found  \\nLet's get away now  \\n  \\nAnd be careful not to crash  \\nIt's known there's frost and we're steaming the glass  \\nYou hit the road, have a generous shoulder  \\nWe could pull over  \\nAnd say we took the long way  \\n  \\nHeadlights  \\nStrobe lights  \\nI can see you  \\nBut not quite  \\nI can feel you  \\nInside  \\nThe timing  \\nIs just right  \\nFor the moment  \\nI don't want  \\nTo go home  \\n  \\nTake the long way out  \\nOh, oh, oh  \\nTake the long way now  \\nOh, oh, oh  \\n  \\nDrive a little slower  \\nDon't matter where we're going now  \\nDrive a little slower  \\nDon't matter where we're going now  \\nDrive a little slower  \\nNot ready to go home  \\nI'd rather stay with you  \\nWe can take the long way  \\n  \\nLong drive, long night  \\nThe best night of my life\\n\\n\""
      ]
     },
     "execution_count": 38,
     "metadata": {},
     "output_type": "execute_result"
    }
   ],
   "source": [
    "df['text'][0]"
   ]
  },
  {
   "cell_type": "code",
   "execution_count": 41,
   "id": "fa8a2cb3",
   "metadata": {},
   "outputs": [
    {
     "data": {
      "text/plain": [
       "0       long drive, long night  \\nthe best night of my...\n",
       "1       ah preston wha di mattar  \\nskin girls like ac...\n",
       "2       i was born in southland twenty some odd years ...\n",
       "3       she's been good to me  \\nshe's been as kind as...\n",
       "4       she's got a way about her  \\ni don't know what...\n",
       "                              ...                        \n",
       "4995    i might have known a lot of things  \\nbeen smi...\n",
       "4996    verse 1  \\ni'm, protected by the leaves of the...\n",
       "4997    i see you, a woman, a world in my mind.  \\ngir...\n",
       "4998    (bairnson, elliott, parsons)  \\n  \\nwhat's the...\n",
       "4999    (traditional)  \\naway in a manger no crib for ...\n",
       "Name: text, Length: 5000, dtype: object"
      ]
     },
     "execution_count": 41,
     "metadata": {},
     "output_type": "execute_result"
    }
   ],
   "source": [
    "df['text'].str.lower().replace(r'[\\w\\s]','')"
   ]
  },
  {
   "cell_type": "code",
   "execution_count": 48,
   "id": "2e33a312",
   "metadata": {},
   "outputs": [],
   "source": [
    "df['text'] =df['text']=df['text'].replace('\\\\n','',regex=True)"
   ]
  },
  {
   "cell_type": "code",
   "execution_count": 49,
   "id": "36c051e4",
   "metadata": {},
   "outputs": [
    {
     "data": {
      "text/plain": [
       "\"Long drive, long night  The best night of my life  With you ridin'  Your hand on my hand    The thought of arriving  Kinda feels like dying  I don't want to go home  And be alone    Could we stay out  Could you drive a little slower  Don't matter where we're going  As long as I'm with you  We can take the long way    Chevy Nova  Front seat sofa  Getting closer  To you    Drive a little slower  Don't matter where we're going  As long as I'm with you  We can take the long way    Drive a little slower  Not ready to go home  I rather stay with you  We can take the long way out    To the country, out of town  Let's get lost, I don't want to be found  Let's get away now    And be careful not to crash  It's known there's frost and we're steaming the glass  You hit the road, have a generous shoulder  We could pull over  And say we took the long way    Headlights  Strobe lights  I can see you  But not quite  I can feel you  Inside  The timing  Is just right  For the moment  I don't want  To go home    Take the long way out  Oh, oh, oh  Take the long way now  Oh, oh, oh    Drive a little slower  Don't matter where we're going now  Drive a little slower  Don't matter where we're going now  Drive a little slower  Not ready to go home  I'd rather stay with you  We can take the long way    Long drive, long night  The best night of my life\""
      ]
     },
     "execution_count": 49,
     "metadata": {},
     "output_type": "execute_result"
    }
   ],
   "source": [
    "df['text'][0]"
   ]
  },
  {
   "cell_type": "code",
   "execution_count": 50,
   "id": "b5d43149",
   "metadata": {},
   "outputs": [],
   "source": [
    "import nltk\n",
    "from nltk.stem.porter import PorterStemmer \n",
    "ps=PorterStemmer()"
   ]
  },
  {
   "cell_type": "code",
   "execution_count": 51,
   "id": "1295322d",
   "metadata": {},
   "outputs": [],
   "source": [
    "def stem(text):\n",
    "    y = [ps.stem(word) for word in text.split()]\n",
    "    return \" \".join(y)"
   ]
  },
  {
   "cell_type": "code",
   "execution_count": 52,
   "id": "63ad4313",
   "metadata": {},
   "outputs": [],
   "source": [
    "df['text']= df['text'].apply(stem)"
   ]
  },
  {
   "cell_type": "code",
   "execution_count": 53,
   "id": "5e6d4c0a",
   "metadata": {},
   "outputs": [
    {
     "data": {
      "text/plain": [
       "\"long drive, long night the best night of my life with you ridin' your hand on my hand the thought of arriv kinda feel like die i don't want to go home and be alon could we stay out could you drive a littl slower don't matter where we'r go as long as i'm with you we can take the long way chevi nova front seat sofa get closer to you drive a littl slower don't matter where we'r go as long as i'm with you we can take the long way drive a littl slower not readi to go home i rather stay with you we can take the long way out to the country, out of town let' get lost, i don't want to be found let' get away now and be care not to crash it' known there' frost and we'r steam the glass you hit the road, have a gener shoulder we could pull over and say we took the long way headlight strobe light i can see you but not quit i can feel you insid the time is just right for the moment i don't want to go home take the long way out oh, oh, oh take the long way now oh, oh, oh drive a littl slower don't matter where we'r go now drive a littl slower don't matter where we'r go now drive a littl slower not readi to go home i'd rather stay with you we can take the long way long drive, long night the best night of my life\""
      ]
     },
     "execution_count": 53,
     "metadata": {},
     "output_type": "execute_result"
    }
   ],
   "source": [
    "df['text'][0]"
   ]
  },
  {
   "cell_type": "markdown",
   "id": "b4e06b09",
   "metadata": {},
   "source": [
    "# Vactorisation"
   ]
  },
  {
   "cell_type": "code",
   "execution_count": 75,
   "id": "9b6902cd",
   "metadata": {},
   "outputs": [],
   "source": [
    "from sklearn.feature_extraction.text import TfidfVectorizer\n",
    "tfidf = TfidfVectorizer(stop_words='english',max_features=5000)\n",
    "vector = tfidf.fit_transform(df['text'])"
   ]
  },
  {
   "cell_type": "code",
   "execution_count": 76,
   "id": "ab1e2fd8",
   "metadata": {},
   "outputs": [
    {
     "data": {
      "text/plain": [
       "<1x5000 sparse matrix of type '<class 'numpy.float64'>'\n",
       "\twith 54 stored elements in Compressed Sparse Row format>"
      ]
     },
     "execution_count": 76,
     "metadata": {},
     "output_type": "execute_result"
    }
   ],
   "source": [
    "vector[0]"
   ]
  },
  {
   "cell_type": "code",
   "execution_count": 77,
   "id": "f070dea4",
   "metadata": {},
   "outputs": [
    {
     "data": {
      "text/plain": [
       "(5000, 5000)"
      ]
     },
     "execution_count": 77,
     "metadata": {},
     "output_type": "execute_result"
    }
   ],
   "source": [
    "vector.shape"
   ]
  },
  {
   "cell_type": "code",
   "execution_count": 78,
   "id": "55f6fd90",
   "metadata": {},
   "outputs": [
    {
     "data": {
      "text/plain": [
       "array(['000', '10', '12', ..., 'zone', 'zoo', 'zoom'], dtype=object)"
      ]
     },
     "execution_count": 78,
     "metadata": {},
     "output_type": "execute_result"
    }
   ],
   "source": [
    "tfidf.get_feature_names_out() #this is used to get that 5000 words from vector"
   ]
  },
  {
   "cell_type": "code",
   "execution_count": 79,
   "id": "5b82d12b",
   "metadata": {},
   "outputs": [
    {
     "data": {
      "text/plain": [
       "(5000, 5000)"
      ]
     },
     "execution_count": 79,
     "metadata": {},
     "output_type": "execute_result"
    }
   ],
   "source": [
    "from sklearn.metrics.pairwise import cosine_similarity\n",
    "similarity = cosine_similarity(vector)\n",
    "similarity.shape"
   ]
  },
  {
   "cell_type": "code",
   "execution_count": 80,
   "id": "3314e4a6",
   "metadata": {},
   "outputs": [
    {
     "data": {
      "text/plain": [
       "array([1.        , 0.00201452, 0.04295649, ..., 0.00302954, 0.02095891,\n",
       "       0.05280675])"
      ]
     },
     "execution_count": 80,
     "metadata": {},
     "output_type": "execute_result"
    }
   ],
   "source": [
    "similarity[0]"
   ]
  },
  {
   "cell_type": "code",
   "execution_count": 81,
   "id": "bfce4042",
   "metadata": {},
   "outputs": [
    {
     "data": {
      "text/plain": [
       "[(482, 0.3991163065520288),\n",
       " (158, 0.3873541611818723),\n",
       " (3734, 0.34897446491076184),\n",
       " (2261, 0.34324601144947353),\n",
       " (1810, 0.33045590509529843)]"
      ]
     },
     "execution_count": 81,
     "metadata": {},
     "output_type": "execute_result"
    }
   ],
   "source": [
    " sorted(list(enumerate(similarity[0])),reverse=True,key = lambda x: x[1])[1:6]"
   ]
  },
  {
   "cell_type": "code",
   "execution_count": 90,
   "id": "d05cde19",
   "metadata": {},
   "outputs": [
    {
     "data": {
      "text/plain": [
       "'Long Drive'"
      ]
     },
     "execution_count": 90,
     "metadata": {},
     "output_type": "execute_result"
    }
   ],
   "source": [
    "df['song'][0]"
   ]
  },
  {
   "cell_type": "code",
   "execution_count": 91,
   "id": "53e573ad",
   "metadata": {},
   "outputs": [
    {
     "data": {
      "text/plain": [
       "0"
      ]
     },
     "execution_count": 91,
     "metadata": {},
     "output_type": "execute_result"
    }
   ],
   "source": [
    "df[df['song']=='Long Drive'].index[0]"
   ]
  },
  {
   "cell_type": "code",
   "execution_count": 86,
   "id": "553daf86",
   "metadata": {},
   "outputs": [],
   "source": [
    "def recommendation(song_df):\n",
    "    idx = df[df['song'] == song_df].index[0]\n",
    "    distances = sorted(list(enumerate(similarity[idx])),reverse=True,key=lambda x:x[1])\n",
    "    \n",
    "    songs = []\n",
    "    for m_id in distances[1:21]:\n",
    "        songs.append(df.iloc[m_id[0]].song)\n",
    "        \n",
    "    return songs"
   ]
  },
  {
   "cell_type": "code",
   "execution_count": 93,
   "id": "4edea11d",
   "metadata": {
    "scrolled": true
   },
   "outputs": [
    {
     "data": {
      "text/plain": [
       "['Long Way Home',\n",
       " 'How Long Will I Love You',\n",
       " 'Touch And Go',\n",
       " 'Drives Me Crazy',\n",
       " 'Dead End',\n",
       " 'A Long Way From Home',\n",
       " 'Long Way Down',\n",
       " 'Prisoners',\n",
       " 'Time Has Come',\n",
       " 'A Change Is Gonna Come',\n",
       " 'Long Road',\n",
       " 'Will The Future Blame Us',\n",
       " 'How Long',\n",
       " 'Long Gone And Moved On',\n",
       " 'Warpath',\n",
       " 'Just As Long As You Are There',\n",
       " 'No Matter Who',\n",
       " 'A Long Night',\n",
       " 'Playing Canasta In Cold Rooms',\n",
       " 'So Long Frank Lloyd Wright']"
      ]
     },
     "execution_count": 93,
     "metadata": {},
     "output_type": "execute_result"
    }
   ],
   "source": [
    "recommendation('Long Drive')"
   ]
  },
  {
   "cell_type": "code",
   "execution_count": null,
   "id": "52ad2863",
   "metadata": {},
   "outputs": [],
   "source": [
    "import pickle\n",
    "pickle.dump(similarity,open('similarity.pkl','wb'))\n",
    "pickle.dump(df['song'],open('songslist.pkl','wb'))"
   ]
  }
 ],
 "metadata": {
  "kernelspec": {
   "display_name": "Python 3 (ipykernel)",
   "language": "python",
   "name": "python3"
  },
  "language_info": {
   "codemirror_mode": {
    "name": "ipython",
    "version": 3
   },
   "file_extension": ".py",
   "mimetype": "text/x-python",
   "name": "python",
   "nbconvert_exporter": "python",
   "pygments_lexer": "ipython3",
   "version": "3.11.5"
  }
 },
 "nbformat": 4,
 "nbformat_minor": 5
}
